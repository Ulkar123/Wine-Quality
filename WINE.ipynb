{
 "cells": [
  {
   "cell_type": "code",
   "execution_count": 301,
   "metadata": {},
   "outputs": [],
   "source": [
    "import numpy as np\n",
    "import pandas as pd\n",
    "import matplotlib as mp\n",
    "import matplotlib.pyplot as plt\n",
    "import seaborn as sns\n",
    "import warnings\n",
    "warnings.filterwarnings(\"ignore\")\n",
    "from sklearn.model_selection import train_test_split\n",
    "from sklearn.preprocessing import StandardScaler\n",
    "from sklearn.decomposition import PCA\n",
    "from sklearn.linear_model import LogisticRegression\n",
    "from sklearn.neighbors import KNeighborsClassifier\n",
    "from sklearn.ensemble import GradientBoostingClassifier\n",
    "from sklearn.model_selection import train_test_split\n",
    "from sklearn.model_selection import GridSearchCV\n",
    "from sklearn.ensemble import RandomForestClassifier\n",
    "from sklearn.metrics import f1_score, confusion_matrix, accuracy_score, classification_report\n",
    "\n"
   ]
  },
  {
   "cell_type": "code",
   "execution_count": 144,
   "metadata": {},
   "outputs": [
    {
     "data": {
      "text/html": [
       "<div>\n",
       "<style scoped>\n",
       "    .dataframe tbody tr th:only-of-type {\n",
       "        vertical-align: middle;\n",
       "    }\n",
       "\n",
       "    .dataframe tbody tr th {\n",
       "        vertical-align: top;\n",
       "    }\n",
       "\n",
       "    .dataframe thead th {\n",
       "        text-align: right;\n",
       "    }\n",
       "</style>\n",
       "<table border=\"1\" class=\"dataframe\">\n",
       "  <thead>\n",
       "    <tr style=\"text-align: right;\">\n",
       "      <th></th>\n",
       "      <th>fixed acid</th>\n",
       "      <th>volatile acid</th>\n",
       "      <th>citric acid</th>\n",
       "      <th>residual sugar</th>\n",
       "      <th>chlorid</th>\n",
       "      <th>free sulfur dioxide</th>\n",
       "      <th>sum of sulfur dioxide</th>\n",
       "      <th>density</th>\n",
       "      <th>pH</th>\n",
       "      <th>sulphates</th>\n",
       "      <th>alcohol</th>\n",
       "      <th>quality</th>\n",
       "      <th>Id</th>\n",
       "    </tr>\n",
       "  </thead>\n",
       "  <tbody>\n",
       "    <tr>\n",
       "      <th>0</th>\n",
       "      <td>7.4</td>\n",
       "      <td>0.700</td>\n",
       "      <td>0.00</td>\n",
       "      <td>1.9</td>\n",
       "      <td>0.076</td>\n",
       "      <td>11.0</td>\n",
       "      <td>34.0</td>\n",
       "      <td>0.99780</td>\n",
       "      <td>3.51</td>\n",
       "      <td>0.56</td>\n",
       "      <td>9.4</td>\n",
       "      <td>5</td>\n",
       "      <td>0</td>\n",
       "    </tr>\n",
       "    <tr>\n",
       "      <th>1</th>\n",
       "      <td>7.8</td>\n",
       "      <td>0.880</td>\n",
       "      <td>0.00</td>\n",
       "      <td>2.6</td>\n",
       "      <td>0.098</td>\n",
       "      <td>25.0</td>\n",
       "      <td>67.0</td>\n",
       "      <td>0.99680</td>\n",
       "      <td>3.20</td>\n",
       "      <td>0.68</td>\n",
       "      <td>9.8</td>\n",
       "      <td>5</td>\n",
       "      <td>1</td>\n",
       "    </tr>\n",
       "    <tr>\n",
       "      <th>2</th>\n",
       "      <td>7.8</td>\n",
       "      <td>0.760</td>\n",
       "      <td>0.04</td>\n",
       "      <td>2.3</td>\n",
       "      <td>0.092</td>\n",
       "      <td>15.0</td>\n",
       "      <td>54.0</td>\n",
       "      <td>0.99700</td>\n",
       "      <td>3.26</td>\n",
       "      <td>0.65</td>\n",
       "      <td>9.8</td>\n",
       "      <td>5</td>\n",
       "      <td>2</td>\n",
       "    </tr>\n",
       "    <tr>\n",
       "      <th>3</th>\n",
       "      <td>11.2</td>\n",
       "      <td>0.280</td>\n",
       "      <td>0.56</td>\n",
       "      <td>1.9</td>\n",
       "      <td>0.075</td>\n",
       "      <td>17.0</td>\n",
       "      <td>60.0</td>\n",
       "      <td>0.99800</td>\n",
       "      <td>3.16</td>\n",
       "      <td>0.58</td>\n",
       "      <td>9.8</td>\n",
       "      <td>6</td>\n",
       "      <td>3</td>\n",
       "    </tr>\n",
       "    <tr>\n",
       "      <th>4</th>\n",
       "      <td>7.4</td>\n",
       "      <td>0.700</td>\n",
       "      <td>0.00</td>\n",
       "      <td>1.9</td>\n",
       "      <td>0.076</td>\n",
       "      <td>11.0</td>\n",
       "      <td>34.0</td>\n",
       "      <td>0.99780</td>\n",
       "      <td>3.51</td>\n",
       "      <td>0.56</td>\n",
       "      <td>9.4</td>\n",
       "      <td>5</td>\n",
       "      <td>4</td>\n",
       "    </tr>\n",
       "    <tr>\n",
       "      <th>...</th>\n",
       "      <td>...</td>\n",
       "      <td>...</td>\n",
       "      <td>...</td>\n",
       "      <td>...</td>\n",
       "      <td>...</td>\n",
       "      <td>...</td>\n",
       "      <td>...</td>\n",
       "      <td>...</td>\n",
       "      <td>...</td>\n",
       "      <td>...</td>\n",
       "      <td>...</td>\n",
       "      <td>...</td>\n",
       "      <td>...</td>\n",
       "    </tr>\n",
       "    <tr>\n",
       "      <th>1138</th>\n",
       "      <td>6.3</td>\n",
       "      <td>0.510</td>\n",
       "      <td>0.13</td>\n",
       "      <td>2.3</td>\n",
       "      <td>0.076</td>\n",
       "      <td>29.0</td>\n",
       "      <td>40.0</td>\n",
       "      <td>0.99574</td>\n",
       "      <td>3.42</td>\n",
       "      <td>0.75</td>\n",
       "      <td>11.0</td>\n",
       "      <td>6</td>\n",
       "      <td>1592</td>\n",
       "    </tr>\n",
       "    <tr>\n",
       "      <th>1139</th>\n",
       "      <td>6.8</td>\n",
       "      <td>0.620</td>\n",
       "      <td>0.08</td>\n",
       "      <td>1.9</td>\n",
       "      <td>0.068</td>\n",
       "      <td>28.0</td>\n",
       "      <td>38.0</td>\n",
       "      <td>0.99651</td>\n",
       "      <td>3.42</td>\n",
       "      <td>0.82</td>\n",
       "      <td>9.5</td>\n",
       "      <td>6</td>\n",
       "      <td>1593</td>\n",
       "    </tr>\n",
       "    <tr>\n",
       "      <th>1140</th>\n",
       "      <td>6.2</td>\n",
       "      <td>0.600</td>\n",
       "      <td>0.08</td>\n",
       "      <td>2.0</td>\n",
       "      <td>0.090</td>\n",
       "      <td>32.0</td>\n",
       "      <td>44.0</td>\n",
       "      <td>0.99490</td>\n",
       "      <td>3.45</td>\n",
       "      <td>0.58</td>\n",
       "      <td>10.5</td>\n",
       "      <td>5</td>\n",
       "      <td>1594</td>\n",
       "    </tr>\n",
       "    <tr>\n",
       "      <th>1141</th>\n",
       "      <td>5.9</td>\n",
       "      <td>0.550</td>\n",
       "      <td>0.10</td>\n",
       "      <td>2.2</td>\n",
       "      <td>0.062</td>\n",
       "      <td>39.0</td>\n",
       "      <td>51.0</td>\n",
       "      <td>0.99512</td>\n",
       "      <td>3.52</td>\n",
       "      <td>0.76</td>\n",
       "      <td>11.2</td>\n",
       "      <td>6</td>\n",
       "      <td>1595</td>\n",
       "    </tr>\n",
       "    <tr>\n",
       "      <th>1142</th>\n",
       "      <td>5.9</td>\n",
       "      <td>0.645</td>\n",
       "      <td>0.12</td>\n",
       "      <td>2.0</td>\n",
       "      <td>0.075</td>\n",
       "      <td>32.0</td>\n",
       "      <td>44.0</td>\n",
       "      <td>0.99547</td>\n",
       "      <td>3.57</td>\n",
       "      <td>0.71</td>\n",
       "      <td>10.2</td>\n",
       "      <td>5</td>\n",
       "      <td>1597</td>\n",
       "    </tr>\n",
       "  </tbody>\n",
       "</table>\n",
       "<p>1143 rows × 13 columns</p>\n",
       "</div>"
      ],
      "text/plain": [
       "      fixed acid  volatile acid  citric acid  residual sugar  chlorid  \\\n",
       "0            7.4          0.700         0.00             1.9    0.076   \n",
       "1            7.8          0.880         0.00             2.6    0.098   \n",
       "2            7.8          0.760         0.04             2.3    0.092   \n",
       "3           11.2          0.280         0.56             1.9    0.075   \n",
       "4            7.4          0.700         0.00             1.9    0.076   \n",
       "...          ...            ...          ...             ...      ...   \n",
       "1138         6.3          0.510         0.13             2.3    0.076   \n",
       "1139         6.8          0.620         0.08             1.9    0.068   \n",
       "1140         6.2          0.600         0.08             2.0    0.090   \n",
       "1141         5.9          0.550         0.10             2.2    0.062   \n",
       "1142         5.9          0.645         0.12             2.0    0.075   \n",
       "\n",
       "      free sulfur dioxide  sum of sulfur dioxide  density    pH  sulphates  \\\n",
       "0                    11.0                   34.0  0.99780  3.51       0.56   \n",
       "1                    25.0                   67.0  0.99680  3.20       0.68   \n",
       "2                    15.0                   54.0  0.99700  3.26       0.65   \n",
       "3                    17.0                   60.0  0.99800  3.16       0.58   \n",
       "4                    11.0                   34.0  0.99780  3.51       0.56   \n",
       "...                   ...                    ...      ...   ...        ...   \n",
       "1138                 29.0                   40.0  0.99574  3.42       0.75   \n",
       "1139                 28.0                   38.0  0.99651  3.42       0.82   \n",
       "1140                 32.0                   44.0  0.99490  3.45       0.58   \n",
       "1141                 39.0                   51.0  0.99512  3.52       0.76   \n",
       "1142                 32.0                   44.0  0.99547  3.57       0.71   \n",
       "\n",
       "      alcohol  quality    Id  \n",
       "0         9.4        5     0  \n",
       "1         9.8        5     1  \n",
       "2         9.8        5     2  \n",
       "3         9.8        6     3  \n",
       "4         9.4        5     4  \n",
       "...       ...      ...   ...  \n",
       "1138     11.0        6  1592  \n",
       "1139      9.5        6  1593  \n",
       "1140     10.5        5  1594  \n",
       "1141     11.2        6  1595  \n",
       "1142     10.2        5  1597  \n",
       "\n",
       "[1143 rows x 13 columns]"
      ]
     },
     "execution_count": 144,
     "metadata": {},
     "output_type": "execute_result"
    }
   ],
   "source": [
    "df = pd.read_csv('Wine.csv')\n",
    "df\n"
   ]
  },
  {
   "cell_type": "markdown",
   "metadata": {},
   "source": [
    "# EDA"
   ]
  },
  {
   "cell_type": "code",
   "execution_count": 145,
   "metadata": {},
   "outputs": [
    {
     "name": "stdout",
     "output_type": "stream",
     "text": [
      "<class 'pandas.core.frame.DataFrame'>\n",
      "RangeIndex: 1143 entries, 0 to 1142\n",
      "Data columns (total 13 columns):\n",
      " #   Column                 Non-Null Count  Dtype  \n",
      "---  ------                 --------------  -----  \n",
      " 0   fixed acid             1143 non-null   float64\n",
      " 1   volatile acid          1143 non-null   float64\n",
      " 2   citric acid            1143 non-null   float64\n",
      " 3   residual sugar         1143 non-null   float64\n",
      " 4   chlorid                1143 non-null   float64\n",
      " 5   free sulfur dioxide    1143 non-null   float64\n",
      " 6   sum of sulfur dioxide  1143 non-null   float64\n",
      " 7   density                1143 non-null   float64\n",
      " 8   pH                     1143 non-null   float64\n",
      " 9   sulphates              1143 non-null   float64\n",
      " 10  alcohol                1143 non-null   float64\n",
      " 11  quality                1143 non-null   int64  \n",
      " 12  Id                     1143 non-null   int64  \n",
      "dtypes: float64(11), int64(2)\n",
      "memory usage: 116.2 KB\n"
     ]
    },
    {
     "data": {
      "text/plain": [
       "fixed acid               0\n",
       "volatile acid            0\n",
       "citric acid              0\n",
       "residual sugar           0\n",
       "chlorid                  0\n",
       "free sulfur dioxide      0\n",
       "sum of sulfur dioxide    0\n",
       "density                  0\n",
       "pH                       0\n",
       "sulphates                0\n",
       "alcohol                  0\n",
       "quality                  0\n",
       "Id                       0\n",
       "dtype: int64"
      ]
     },
     "execution_count": 145,
     "metadata": {},
     "output_type": "execute_result"
    }
   ],
   "source": [
    "df.info()\n",
    "df.isnull().sum()"
   ]
  },
  {
   "cell_type": "code",
   "execution_count": 146,
   "metadata": {},
   "outputs": [
    {
     "data": {
      "text/html": [
       "<div>\n",
       "<style scoped>\n",
       "    .dataframe tbody tr th:only-of-type {\n",
       "        vertical-align: middle;\n",
       "    }\n",
       "\n",
       "    .dataframe tbody tr th {\n",
       "        vertical-align: top;\n",
       "    }\n",
       "\n",
       "    .dataframe thead th {\n",
       "        text-align: right;\n",
       "    }\n",
       "</style>\n",
       "<table border=\"1\" class=\"dataframe\">\n",
       "  <thead>\n",
       "    <tr style=\"text-align: right;\">\n",
       "      <th></th>\n",
       "      <th>fixed acid</th>\n",
       "      <th>volatile acid</th>\n",
       "      <th>citric acid</th>\n",
       "      <th>residual sugar</th>\n",
       "      <th>chlorid</th>\n",
       "      <th>free sulfur dioxide</th>\n",
       "      <th>sum of sulfur dioxide</th>\n",
       "      <th>density</th>\n",
       "      <th>pH</th>\n",
       "      <th>sulphates</th>\n",
       "      <th>alcohol</th>\n",
       "      <th>quality</th>\n",
       "      <th>Id</th>\n",
       "    </tr>\n",
       "  </thead>\n",
       "  <tbody>\n",
       "    <tr>\n",
       "      <th>count</th>\n",
       "      <td>1143.000000</td>\n",
       "      <td>1143.000000</td>\n",
       "      <td>1143.000000</td>\n",
       "      <td>1143.000000</td>\n",
       "      <td>1143.000000</td>\n",
       "      <td>1143.000000</td>\n",
       "      <td>1143.000000</td>\n",
       "      <td>1143.000000</td>\n",
       "      <td>1143.000000</td>\n",
       "      <td>1143.000000</td>\n",
       "      <td>1143.000000</td>\n",
       "      <td>1143.000000</td>\n",
       "      <td>1143.000000</td>\n",
       "    </tr>\n",
       "    <tr>\n",
       "      <th>mean</th>\n",
       "      <td>8.311111</td>\n",
       "      <td>0.531339</td>\n",
       "      <td>0.268364</td>\n",
       "      <td>2.532152</td>\n",
       "      <td>0.086933</td>\n",
       "      <td>15.615486</td>\n",
       "      <td>45.914698</td>\n",
       "      <td>0.996730</td>\n",
       "      <td>3.311015</td>\n",
       "      <td>0.657708</td>\n",
       "      <td>10.442111</td>\n",
       "      <td>5.657043</td>\n",
       "      <td>804.969379</td>\n",
       "    </tr>\n",
       "    <tr>\n",
       "      <th>std</th>\n",
       "      <td>1.747595</td>\n",
       "      <td>0.179633</td>\n",
       "      <td>0.196686</td>\n",
       "      <td>1.355917</td>\n",
       "      <td>0.047267</td>\n",
       "      <td>10.250486</td>\n",
       "      <td>32.782130</td>\n",
       "      <td>0.001925</td>\n",
       "      <td>0.156664</td>\n",
       "      <td>0.170399</td>\n",
       "      <td>1.082196</td>\n",
       "      <td>0.805824</td>\n",
       "      <td>463.997116</td>\n",
       "    </tr>\n",
       "    <tr>\n",
       "      <th>min</th>\n",
       "      <td>4.600000</td>\n",
       "      <td>0.120000</td>\n",
       "      <td>0.000000</td>\n",
       "      <td>0.900000</td>\n",
       "      <td>0.012000</td>\n",
       "      <td>1.000000</td>\n",
       "      <td>6.000000</td>\n",
       "      <td>0.990070</td>\n",
       "      <td>2.740000</td>\n",
       "      <td>0.330000</td>\n",
       "      <td>8.400000</td>\n",
       "      <td>3.000000</td>\n",
       "      <td>0.000000</td>\n",
       "    </tr>\n",
       "    <tr>\n",
       "      <th>25%</th>\n",
       "      <td>7.100000</td>\n",
       "      <td>0.392500</td>\n",
       "      <td>0.090000</td>\n",
       "      <td>1.900000</td>\n",
       "      <td>0.070000</td>\n",
       "      <td>7.000000</td>\n",
       "      <td>21.000000</td>\n",
       "      <td>0.995570</td>\n",
       "      <td>3.205000</td>\n",
       "      <td>0.550000</td>\n",
       "      <td>9.500000</td>\n",
       "      <td>5.000000</td>\n",
       "      <td>411.000000</td>\n",
       "    </tr>\n",
       "    <tr>\n",
       "      <th>50%</th>\n",
       "      <td>7.900000</td>\n",
       "      <td>0.520000</td>\n",
       "      <td>0.250000</td>\n",
       "      <td>2.200000</td>\n",
       "      <td>0.079000</td>\n",
       "      <td>13.000000</td>\n",
       "      <td>37.000000</td>\n",
       "      <td>0.996680</td>\n",
       "      <td>3.310000</td>\n",
       "      <td>0.620000</td>\n",
       "      <td>10.200000</td>\n",
       "      <td>6.000000</td>\n",
       "      <td>794.000000</td>\n",
       "    </tr>\n",
       "    <tr>\n",
       "      <th>75%</th>\n",
       "      <td>9.100000</td>\n",
       "      <td>0.640000</td>\n",
       "      <td>0.420000</td>\n",
       "      <td>2.600000</td>\n",
       "      <td>0.090000</td>\n",
       "      <td>21.000000</td>\n",
       "      <td>61.000000</td>\n",
       "      <td>0.997845</td>\n",
       "      <td>3.400000</td>\n",
       "      <td>0.730000</td>\n",
       "      <td>11.100000</td>\n",
       "      <td>6.000000</td>\n",
       "      <td>1209.500000</td>\n",
       "    </tr>\n",
       "    <tr>\n",
       "      <th>max</th>\n",
       "      <td>15.900000</td>\n",
       "      <td>1.580000</td>\n",
       "      <td>1.000000</td>\n",
       "      <td>15.500000</td>\n",
       "      <td>0.611000</td>\n",
       "      <td>68.000000</td>\n",
       "      <td>289.000000</td>\n",
       "      <td>1.003690</td>\n",
       "      <td>4.010000</td>\n",
       "      <td>2.000000</td>\n",
       "      <td>14.900000</td>\n",
       "      <td>8.000000</td>\n",
       "      <td>1597.000000</td>\n",
       "    </tr>\n",
       "  </tbody>\n",
       "</table>\n",
       "</div>"
      ],
      "text/plain": [
       "        fixed acid  volatile acid  citric acid  residual sugar      chlorid  \\\n",
       "count  1143.000000    1143.000000  1143.000000     1143.000000  1143.000000   \n",
       "mean      8.311111       0.531339     0.268364        2.532152     0.086933   \n",
       "std       1.747595       0.179633     0.196686        1.355917     0.047267   \n",
       "min       4.600000       0.120000     0.000000        0.900000     0.012000   \n",
       "25%       7.100000       0.392500     0.090000        1.900000     0.070000   \n",
       "50%       7.900000       0.520000     0.250000        2.200000     0.079000   \n",
       "75%       9.100000       0.640000     0.420000        2.600000     0.090000   \n",
       "max      15.900000       1.580000     1.000000       15.500000     0.611000   \n",
       "\n",
       "       free sulfur dioxide  sum of sulfur dioxide      density           pH  \\\n",
       "count          1143.000000            1143.000000  1143.000000  1143.000000   \n",
       "mean             15.615486              45.914698     0.996730     3.311015   \n",
       "std              10.250486              32.782130     0.001925     0.156664   \n",
       "min               1.000000               6.000000     0.990070     2.740000   \n",
       "25%               7.000000              21.000000     0.995570     3.205000   \n",
       "50%              13.000000              37.000000     0.996680     3.310000   \n",
       "75%              21.000000              61.000000     0.997845     3.400000   \n",
       "max              68.000000             289.000000     1.003690     4.010000   \n",
       "\n",
       "         sulphates      alcohol      quality           Id  \n",
       "count  1143.000000  1143.000000  1143.000000  1143.000000  \n",
       "mean      0.657708    10.442111     5.657043   804.969379  \n",
       "std       0.170399     1.082196     0.805824   463.997116  \n",
       "min       0.330000     8.400000     3.000000     0.000000  \n",
       "25%       0.550000     9.500000     5.000000   411.000000  \n",
       "50%       0.620000    10.200000     6.000000   794.000000  \n",
       "75%       0.730000    11.100000     6.000000  1209.500000  \n",
       "max       2.000000    14.900000     8.000000  1597.000000  "
      ]
     },
     "execution_count": 146,
     "metadata": {},
     "output_type": "execute_result"
    }
   ],
   "source": [
    "df.describe()"
   ]
  },
  {
   "cell_type": "code",
   "execution_count": 147,
   "metadata": {},
   "outputs": [],
   "source": [
    "df.drop(['Id'],inplace=True, axis = 1)"
   ]
  },
  {
   "cell_type": "code",
   "execution_count": 148,
   "metadata": {},
   "outputs": [
    {
     "data": {
      "text/plain": [
       "5    483\n",
       "6    462\n",
       "7    143\n",
       "4     33\n",
       "8     16\n",
       "3      6\n",
       "Name: quality, dtype: int64"
      ]
     },
     "execution_count": 148,
     "metadata": {},
     "output_type": "execute_result"
    }
   ],
   "source": [
    "df['quality'].value_counts()"
   ]
  },
  {
   "cell_type": "code",
   "execution_count": 149,
   "metadata": {},
   "outputs": [],
   "source": [
    "def feature_viz(feature):\n",
    "    plt.figure(figsize=(15,8))\n",
    "    plt.title(f'{feature} hist plot')\n",
    "    plt.subplot(1,3,1)\n",
    "    df[feature].plot(kind='hist')\n",
    "\n",
    "    plt.subplot(1,3,2)\n",
    "    plt.title(f'{feature} box plot')\n",
    "    sns.boxplot(df[feature])\n",
    "    "
   ]
  },
  {
   "cell_type": "code",
   "execution_count": 334,
   "metadata": {},
   "outputs": [
    {
     "data": {
      "image/png": "[encoded data removed]",
      "text/plain": [
       "<Figure size 1080x576 with 2 Axes>"
      ]
     },
     "metadata": {
      "needs_background": "light"
     },
     "output_type": "display_data"
    },
    {
     "data": {
      "image/png": "[encoded data removed]",
      "text/plain": [
       "<Figure size 1080x576 with 2 Axes>"
      ]
     },
     "metadata": {
      "needs_background": "light"
     },
     "output_type": "display_data"
    },
    {
     "data": {
      "image/png": "[encoded data removed]",
      "text/plain": [
       "<Figure size 1080x576 with 2 Axes>"
      ]
     },
     "metadata": {
      "needs_background": "light"
     },
     "output_type": "display_data"
    },
    {
     "data": {
      "image/png": "[encoded data removed]",
      "text/plain": [
       "<Figure size 1080x576 with 2 Axes>"
      ]
     },
     "metadata": {
      "needs_background": "light"
     },
     "output_type": "display_data"
    },
    {
     "data": {
      "image/png": "[encoded data removed]",
      "text/plain": [
       "<Figure size 1080x576 with 2 Axes>"
      ]
     },
     "metadata": {
      "needs_background": "light"
     },
     "output_type": "display_data"
    },
    {
     "data": {
      "image/png": "[encoded data removed]",
      "text/plain": [
       "<Figure size 1080x576 with 2 Axes>"
      ]
     },
     "metadata": {
      "needs_background": "light"
     },
     "output_type": "display_data"
    },
    {
     "data": {
      "image/png": "[encoded data removed]",
      "text/plain": [
       "<Figure size 1080x576 with 2 Axes>"
      ]
     },
     "metadata": {
      "needs_background": "light"
     },
     "output_type": "display_data"
    },
    {
     "data": {
      "image/png": "[encoded data removed]",
      "text/plain": [
       "<Figure size 1080x576 with 2 Axes>"
      ]
     },
     "metadata": {
      "needs_background": "light"
     },
     "output_type": "display_data"
    },
    {
     "data": {
      "image/png": "[encoded data removed]",
      "text/plain": [
       "<Figure size 1080x576 with 2 Axes>"
      ]
     },
     "metadata": {
      "needs_background": "light"
     },
     "output_type": "display_data"
    },
    {
     "data": {
      "image/png": "[encoded data removed]",
      "text/plain": [
       "<Figure size 1080x576 with 2 Axes>"
      ]
     },
     "metadata": {
      "needs_background": "light"
     },
     "output_type": "display_data"
    },
    {
     "data": {
      "image/png": "[encoded data removed]",
      "text/plain": [
       "<Figure size 1080x576 with 2 Axes>"
      ]
     },
     "metadata": {
      "needs_background": "light"
     },
     "output_type": "display_data"
    },
    {
     "data": {
      "image/png": "[encoded data removed]",
      "text/plain": [
       "<Figure size 1080x576 with 2 Axes>"
      ]
     },
     "metadata": {
      "needs_background": "light"
     },
     "output_type": "display_data"
    }
   ],
   "source": [
    "import warnings\n",
    "warnings.simplefilter(action=\"ignore\", category=FutureWarning)\n",
    "\n",
    "for i in df.columns:\n",
    "    feature_viz(i)"
   ]
  },
  {
   "cell_type": "code",
   "execution_count": 151,
   "metadata": {},
   "outputs": [
    {
     "data": {
      "text/html": [
       "<style  type=\"text/css\" >\n",
       "#T_28e05120_cd39_11ec_9c7e_c0e434400c5crow0_col0,#T_28e05120_cd39_11ec_9c7e_c0e434400c5crow1_col1,#T_28e05120_cd39_11ec_9c7e_c0e434400c5crow2_col2,#T_28e05120_cd39_11ec_9c7e_c0e434400c5crow3_col3,#T_28e05120_cd39_11ec_9c7e_c0e434400c5crow4_col4,#T_28e05120_cd39_11ec_9c7e_c0e434400c5crow5_col5,#T_28e05120_cd39_11ec_9c7e_c0e434400c5crow6_col6,#T_28e05120_cd39_11ec_9c7e_c0e434400c5crow7_col7,#T_28e05120_cd39_11ec_9c7e_c0e434400c5crow8_col8,#T_28e05120_cd39_11ec_9c7e_c0e434400c5crow9_col9,#T_28e05120_cd39_11ec_9c7e_c0e434400c5crow10_col10,#T_28e05120_cd39_11ec_9c7e_c0e434400c5crow11_col11{\n",
       "            background-color:  #67000d;\n",
       "            color:  #f1f1f1;\n",
       "        }#T_28e05120_cd39_11ec_9c7e_c0e434400c5crow0_col1,#T_28e05120_cd39_11ec_9c7e_c0e434400c5crow2_col6{\n",
       "            background-color:  #fdcdb9;\n",
       "            color:  #000000;\n",
       "        }#T_28e05120_cd39_11ec_9c7e_c0e434400c5crow0_col2,#T_28e05120_cd39_11ec_9c7e_c0e434400c5crow0_col7{\n",
       "            background-color:  #bf151b;\n",
       "            color:  #f1f1f1;\n",
       "        }#T_28e05120_cd39_11ec_9c7e_c0e434400c5crow0_col3,#T_28e05120_cd39_11ec_9c7e_c0e434400c5crow1_col4{\n",
       "            background-color:  #fcb89e;\n",
       "            color:  #000000;\n",
       "        }#T_28e05120_cd39_11ec_9c7e_c0e434400c5crow0_col4{\n",
       "            background-color:  #fcaa8d;\n",
       "            color:  #000000;\n",
       "        }#T_28e05120_cd39_11ec_9c7e_c0e434400c5crow0_col5,#T_28e05120_cd39_11ec_9c7e_c0e434400c5crow0_col8,#T_28e05120_cd39_11ec_9c7e_c0e434400c5crow1_col2,#T_28e05120_cd39_11ec_9c7e_c0e434400c5crow1_col9,#T_28e05120_cd39_11ec_9c7e_c0e434400c5crow1_col11,#T_28e05120_cd39_11ec_9c7e_c0e434400c5crow2_col1,#T_28e05120_cd39_11ec_9c7e_c0e434400c5crow7_col10,#T_28e05120_cd39_11ec_9c7e_c0e434400c5crow8_col0,#T_28e05120_cd39_11ec_9c7e_c0e434400c5crow8_col2,#T_28e05120_cd39_11ec_9c7e_c0e434400c5crow8_col3,#T_28e05120_cd39_11ec_9c7e_c0e434400c5crow8_col4,#T_28e05120_cd39_11ec_9c7e_c0e434400c5crow10_col6,#T_28e05120_cd39_11ec_9c7e_c0e434400c5crow10_col7{\n",
       "            background-color:  #fff5f0;\n",
       "            color:  #000000;\n",
       "        }#T_28e05120_cd39_11ec_9c7e_c0e434400c5crow0_col6{\n",
       "            background-color:  #feeae1;\n",
       "            color:  #000000;\n",
       "        }#T_28e05120_cd39_11ec_9c7e_c0e434400c5crow0_col9{\n",
       "            background-color:  #fc997a;\n",
       "            color:  #000000;\n",
       "        }#T_28e05120_cd39_11ec_9c7e_c0e434400c5crow0_col10{\n",
       "            background-color:  #fcb296;\n",
       "            color:  #000000;\n",
       "        }#T_28e05120_cd39_11ec_9c7e_c0e434400c5crow0_col11,#T_28e05120_cd39_11ec_9c7e_c0e434400c5crow6_col2,#T_28e05120_cd39_11ec_9c7e_c0e434400c5crow11_col8{\n",
       "            background-color:  #fc9272;\n",
       "            color:  #000000;\n",
       "        }#T_28e05120_cd39_11ec_9c7e_c0e434400c5crow1_col0,#T_28e05120_cd39_11ec_9c7e_c0e434400c5crow6_col4{\n",
       "            background-color:  #fcb99f;\n",
       "            color:  #000000;\n",
       "        }#T_28e05120_cd39_11ec_9c7e_c0e434400c5crow1_col3,#T_28e05120_cd39_11ec_9c7e_c0e434400c5crow10_col5{\n",
       "            background-color:  #fee5d8;\n",
       "            color:  #000000;\n",
       "        }#T_28e05120_cd39_11ec_9c7e_c0e434400c5crow1_col5{\n",
       "            background-color:  #fedccd;\n",
       "            color:  #000000;\n",
       "        }#T_28e05120_cd39_11ec_9c7e_c0e434400c5crow1_col6{\n",
       "            background-color:  #fcc3ab;\n",
       "            color:  #000000;\n",
       "        }#T_28e05120_cd39_11ec_9c7e_c0e434400c5crow1_col7,#T_28e05120_cd39_11ec_9c7e_c0e434400c5crow6_col0{\n",
       "            background-color:  #fc9d7f;\n",
       "            color:  #000000;\n",
       "        }#T_28e05120_cd39_11ec_9c7e_c0e434400c5crow1_col8{\n",
       "            background-color:  #f75c41;\n",
       "            color:  #000000;\n",
       "        }#T_28e05120_cd39_11ec_9c7e_c0e434400c5crow1_col10{\n",
       "            background-color:  #fdccb8;\n",
       "            color:  #000000;\n",
       "        }#T_28e05120_cd39_11ec_9c7e_c0e434400c5crow2_col0{\n",
       "            background-color:  #b91419;\n",
       "            color:  #f1f1f1;\n",
       "        }#T_28e05120_cd39_11ec_9c7e_c0e434400c5crow2_col3{\n",
       "            background-color:  #fcb79c;\n",
       "            color:  #000000;\n",
       "        }#T_28e05120_cd39_11ec_9c7e_c0e434400c5crow2_col4{\n",
       "            background-color:  #fc8767;\n",
       "            color:  #000000;\n",
       "        }#T_28e05120_cd39_11ec_9c7e_c0e434400c5crow2_col5{\n",
       "            background-color:  #fee6da;\n",
       "            color:  #000000;\n",
       "        }#T_28e05120_cd39_11ec_9c7e_c0e434400c5crow2_col7{\n",
       "            background-color:  #f34c37;\n",
       "            color:  #000000;\n",
       "        }#T_28e05120_cd39_11ec_9c7e_c0e434400c5crow2_col8{\n",
       "            background-color:  #fee7dc;\n",
       "            color:  #000000;\n",
       "        }#T_28e05120_cd39_11ec_9c7e_c0e434400c5crow2_col9{\n",
       "            background-color:  #fb7252;\n",
       "            color:  #000000;\n",
       "        }#T_28e05120_cd39_11ec_9c7e_c0e434400c5crow2_col10{\n",
       "            background-color:  #fc8a6a;\n",
       "            color:  #000000;\n",
       "        }#T_28e05120_cd39_11ec_9c7e_c0e434400c5crow2_col11{\n",
       "            background-color:  #fb7757;\n",
       "            color:  #000000;\n",
       "        }#T_28e05120_cd39_11ec_9c7e_c0e434400c5crow3_col0,#T_28e05120_cd39_11ec_9c7e_c0e434400c5crow4_col9,#T_28e05120_cd39_11ec_9c7e_c0e434400c5crow9_col0,#T_28e05120_cd39_11ec_9c7e_c0e434400c5crow9_col4,#T_28e05120_cd39_11ec_9c7e_c0e434400c5crow11_col2{\n",
       "            background-color:  #fa6648;\n",
       "            color:  #000000;\n",
       "        }#T_28e05120_cd39_11ec_9c7e_c0e434400c5crow3_col1,#T_28e05120_cd39_11ec_9c7e_c0e434400c5crow5_col1{\n",
       "            background-color:  #fc9b7c;\n",
       "            color:  #000000;\n",
       "        }#T_28e05120_cd39_11ec_9c7e_c0e434400c5crow3_col2{\n",
       "            background-color:  #fb7555;\n",
       "            color:  #000000;\n",
       "        }#T_28e05120_cd39_11ec_9c7e_c0e434400c5crow3_col4{\n",
       "            background-color:  #fcb499;\n",
       "            color:  #000000;\n",
       "        }#T_28e05120_cd39_11ec_9c7e_c0e434400c5crow3_col5{\n",
       "            background-color:  #fcb095;\n",
       "            color:  #000000;\n",
       "        }#T_28e05120_cd39_11ec_9c7e_c0e434400c5crow3_col6{\n",
       "            background-color:  #fca588;\n",
       "            color:  #000000;\n",
       "        }#T_28e05120_cd39_11ec_9c7e_c0e434400c5crow3_col7{\n",
       "            background-color:  #f34a36;\n",
       "            color:  #000000;\n",
       "        }#T_28e05120_cd39_11ec_9c7e_c0e434400c5crow3_col8{\n",
       "            background-color:  #fc9e80;\n",
       "            color:  #000000;\n",
       "        }#T_28e05120_cd39_11ec_9c7e_c0e434400c5crow3_col9,#T_28e05120_cd39_11ec_9c7e_c0e434400c5crow5_col4{\n",
       "            background-color:  #fcc2aa;\n",
       "            color:  #000000;\n",
       "        }#T_28e05120_cd39_11ec_9c7e_c0e434400c5crow3_col10{\n",
       "            background-color:  #fc9474;\n",
       "            color:  #000000;\n",
       "        }#T_28e05120_cd39_11ec_9c7e_c0e434400c5crow3_col11{\n",
       "            background-color:  #fca98c;\n",
       "            color:  #000000;\n",
       "        }#T_28e05120_cd39_11ec_9c7e_c0e434400c5crow4_col0,#T_28e05120_cd39_11ec_9c7e_c0e434400c5crow4_col7,#T_28e05120_cd39_11ec_9c7e_c0e434400c5crow9_col11{\n",
       "            background-color:  #fb7353;\n",
       "            color:  #000000;\n",
       "        }#T_28e05120_cd39_11ec_9c7e_c0e434400c5crow4_col1{\n",
       "            background-color:  #fc8e6e;\n",
       "            color:  #000000;\n",
       "        }#T_28e05120_cd39_11ec_9c7e_c0e434400c5crow4_col2{\n",
       "            background-color:  #fa6547;\n",
       "            color:  #000000;\n",
       "        }#T_28e05120_cd39_11ec_9c7e_c0e434400c5crow4_col3,#T_28e05120_cd39_11ec_9c7e_c0e434400c5crow9_col5{\n",
       "            background-color:  #fdd3c1;\n",
       "            color:  #000000;\n",
       "        }#T_28e05120_cd39_11ec_9c7e_c0e434400c5crow4_col5{\n",
       "            background-color:  #fed8c7;\n",
       "            color:  #000000;\n",
       "        }#T_28e05120_cd39_11ec_9c7e_c0e434400c5crow4_col6,#T_28e05120_cd39_11ec_9c7e_c0e434400c5crow7_col8{\n",
       "            background-color:  #fdcbb6;\n",
       "            color:  #000000;\n",
       "        }#T_28e05120_cd39_11ec_9c7e_c0e434400c5crow4_col8{\n",
       "            background-color:  #fcbea5;\n",
       "            color:  #000000;\n",
       "        }#T_28e05120_cd39_11ec_9c7e_c0e434400c5crow4_col10{\n",
       "            background-color:  #fdd1be;\n",
       "            color:  #000000;\n",
       "        }#T_28e05120_cd39_11ec_9c7e_c0e434400c5crow4_col11,#T_28e05120_cd39_11ec_9c7e_c0e434400c5crow7_col6{\n",
       "            background-color:  #fdcab5;\n",
       "            color:  #000000;\n",
       "        }#T_28e05120_cd39_11ec_9c7e_c0e434400c5crow5_col0{\n",
       "            background-color:  #fca78b;\n",
       "            color:  #000000;\n",
       "        }#T_28e05120_cd39_11ec_9c7e_c0e434400c5crow5_col2{\n",
       "            background-color:  #fca689;\n",
       "            color:  #000000;\n",
       "        }#T_28e05120_cd39_11ec_9c7e_c0e434400c5crow5_col3,#T_28e05120_cd39_11ec_9c7e_c0e434400c5crow8_col11{\n",
       "            background-color:  #fcbba1;\n",
       "            color:  #000000;\n",
       "        }#T_28e05120_cd39_11ec_9c7e_c0e434400c5crow5_col6{\n",
       "            background-color:  #d52221;\n",
       "            color:  #f1f1f1;\n",
       "        }#T_28e05120_cd39_11ec_9c7e_c0e434400c5crow5_col7,#T_28e05120_cd39_11ec_9c7e_c0e434400c5crow9_col8{\n",
       "            background-color:  #fcad90;\n",
       "            color:  #000000;\n",
       "        }#T_28e05120_cd39_11ec_9c7e_c0e434400c5crow5_col8{\n",
       "            background-color:  #fb7a5a;\n",
       "            color:  #000000;\n",
       "        }#T_28e05120_cd39_11ec_9c7e_c0e434400c5crow5_col9,#T_28e05120_cd39_11ec_9c7e_c0e434400c5crow5_col11{\n",
       "            background-color:  #fcbda4;\n",
       "            color:  #000000;\n",
       "        }#T_28e05120_cd39_11ec_9c7e_c0e434400c5crow5_col10{\n",
       "            background-color:  #fcab8f;\n",
       "            color:  #000000;\n",
       "        }#T_28e05120_cd39_11ec_9c7e_c0e434400c5crow6_col1{\n",
       "            background-color:  #fc8969;\n",
       "            color:  #000000;\n",
       "        }#T_28e05120_cd39_11ec_9c7e_c0e434400c5crow6_col3{\n",
       "            background-color:  #fcb398;\n",
       "            color:  #000000;\n",
       "        }#T_28e05120_cd39_11ec_9c7e_c0e434400c5crow6_col5{\n",
       "            background-color:  #d72322;\n",
       "            color:  #f1f1f1;\n",
       "        }#T_28e05120_cd39_11ec_9c7e_c0e434400c5crow6_col7{\n",
       "            background-color:  #fc9576;\n",
       "            color:  #000000;\n",
       "        }#T_28e05120_cd39_11ec_9c7e_c0e434400c5crow6_col8{\n",
       "            background-color:  #fc9373;\n",
       "            color:  #000000;\n",
       "        }#T_28e05120_cd39_11ec_9c7e_c0e434400c5crow6_col9{\n",
       "            background-color:  #fcbfa7;\n",
       "            color:  #000000;\n",
       "        }#T_28e05120_cd39_11ec_9c7e_c0e434400c5crow6_col10,#T_28e05120_cd39_11ec_9c7e_c0e434400c5crow8_col5{\n",
       "            background-color:  #fdc9b3;\n",
       "            color:  #000000;\n",
       "        }#T_28e05120_cd39_11ec_9c7e_c0e434400c5crow6_col11,#T_28e05120_cd39_11ec_9c7e_c0e434400c5crow10_col3{\n",
       "            background-color:  #fdd7c6;\n",
       "            color:  #000000;\n",
       "        }#T_28e05120_cd39_11ec_9c7e_c0e434400c5crow7_col0{\n",
       "            background-color:  #b81419;\n",
       "            color:  #f1f1f1;\n",
       "        }#T_28e05120_cd39_11ec_9c7e_c0e434400c5crow7_col1,#T_28e05120_cd39_11ec_9c7e_c0e434400c5crow10_col0{\n",
       "            background-color:  #fc9777;\n",
       "            color:  #000000;\n",
       "        }#T_28e05120_cd39_11ec_9c7e_c0e434400c5crow7_col2{\n",
       "            background-color:  #f24633;\n",
       "            color:  #000000;\n",
       "        }#T_28e05120_cd39_11ec_9c7e_c0e434400c5crow7_col3{\n",
       "            background-color:  #fb7c5c;\n",
       "            color:  #000000;\n",
       "        }#T_28e05120_cd39_11ec_9c7e_c0e434400c5crow7_col4{\n",
       "            background-color:  #fc9070;\n",
       "            color:  #000000;\n",
       "        }#T_28e05120_cd39_11ec_9c7e_c0e434400c5crow7_col5,#T_28e05120_cd39_11ec_9c7e_c0e434400c5crow8_col7{\n",
       "            background-color:  #fee5d9;\n",
       "            color:  #000000;\n",
       "        }#T_28e05120_cd39_11ec_9c7e_c0e434400c5crow7_col9{\n",
       "            background-color:  #fca183;\n",
       "            color:  #000000;\n",
       "        }#T_28e05120_cd39_11ec_9c7e_c0e434400c5crow7_col11{\n",
       "            background-color:  #fdd4c2;\n",
       "            color:  #000000;\n",
       "        }#T_28e05120_cd39_11ec_9c7e_c0e434400c5crow8_col1{\n",
       "            background-color:  #fb6c4c;\n",
       "            color:  #000000;\n",
       "        }#T_28e05120_cd39_11ec_9c7e_c0e434400c5crow8_col6{\n",
       "            background-color:  #fee3d7;\n",
       "            color:  #000000;\n",
       "        }#T_28e05120_cd39_11ec_9c7e_c0e434400c5crow8_col9{\n",
       "            background-color:  #fee9df;\n",
       "            color:  #000000;\n",
       "        }#T_28e05120_cd39_11ec_9c7e_c0e434400c5crow8_col10{\n",
       "            background-color:  #fb7050;\n",
       "            color:  #000000;\n",
       "        }#T_28e05120_cd39_11ec_9c7e_c0e434400c5crow9_col1{\n",
       "            background-color:  #fdd2bf;\n",
       "            color:  #000000;\n",
       "        }#T_28e05120_cd39_11ec_9c7e_c0e434400c5crow9_col2{\n",
       "            background-color:  #f4503a;\n",
       "            color:  #000000;\n",
       "        }#T_28e05120_cd39_11ec_9c7e_c0e434400c5crow9_col3,#T_28e05120_cd39_11ec_9c7e_c0e434400c5crow11_col4{\n",
       "            background-color:  #fee1d4;\n",
       "            color:  #000000;\n",
       "        }#T_28e05120_cd39_11ec_9c7e_c0e434400c5crow9_col6{\n",
       "            background-color:  #fdd0bc;\n",
       "            color:  #000000;\n",
       "        }#T_28e05120_cd39_11ec_9c7e_c0e434400c5crow9_col7{\n",
       "            background-color:  #fc8161;\n",
       "            color:  #000000;\n",
       "        }#T_28e05120_cd39_11ec_9c7e_c0e434400c5crow9_col10{\n",
       "            background-color:  #fc8d6d;\n",
       "            color:  #000000;\n",
       "        }#T_28e05120_cd39_11ec_9c7e_c0e434400c5crow10_col1{\n",
       "            background-color:  #fcc4ad;\n",
       "            color:  #000000;\n",
       "        }#T_28e05120_cd39_11ec_9c7e_c0e434400c5crow10_col2{\n",
       "            background-color:  #fc8262;\n",
       "            color:  #000000;\n",
       "        }#T_28e05120_cd39_11ec_9c7e_c0e434400c5crow10_col4{\n",
       "            background-color:  #ffefe8;\n",
       "            color:  #000000;\n",
       "        }#T_28e05120_cd39_11ec_9c7e_c0e434400c5crow10_col8{\n",
       "            background-color:  #f75b40;\n",
       "            color:  #000000;\n",
       "        }#T_28e05120_cd39_11ec_9c7e_c0e434400c5crow10_col9{\n",
       "            background-color:  #fcae92;\n",
       "            color:  #000000;\n",
       "        }#T_28e05120_cd39_11ec_9c7e_c0e434400c5crow10_col11{\n",
       "            background-color:  #ec382b;\n",
       "            color:  #f1f1f1;\n",
       "        }#T_28e05120_cd39_11ec_9c7e_c0e434400c5crow11_col0{\n",
       "            background-color:  #fb7151;\n",
       "            color:  #000000;\n",
       "        }#T_28e05120_cd39_11ec_9c7e_c0e434400c5crow11_col1,#T_28e05120_cd39_11ec_9c7e_c0e434400c5crow11_col5{\n",
       "            background-color:  #fee7db;\n",
       "            color:  #000000;\n",
       "        }#T_28e05120_cd39_11ec_9c7e_c0e434400c5crow11_col3{\n",
       "            background-color:  #fee1d3;\n",
       "            color:  #000000;\n",
       "        }#T_28e05120_cd39_11ec_9c7e_c0e434400c5crow11_col6{\n",
       "            background-color:  #fff4ef;\n",
       "            color:  #000000;\n",
       "        }#T_28e05120_cd39_11ec_9c7e_c0e434400c5crow11_col7{\n",
       "            background-color:  #fdc6b0;\n",
       "            color:  #000000;\n",
       "        }#T_28e05120_cd39_11ec_9c7e_c0e434400c5crow11_col9{\n",
       "            background-color:  #fc8464;\n",
       "            color:  #000000;\n",
       "        }#T_28e05120_cd39_11ec_9c7e_c0e434400c5crow11_col10{\n",
       "            background-color:  #e63328;\n",
       "            color:  #f1f1f1;\n",
       "        }</style><table id=\"T_28e05120_cd39_11ec_9c7e_c0e434400c5c\" ><thead>    <tr>        <th class=\"blank level0\" ></th>        <th class=\"col_heading level0 col0\" >fixed acid</th>        <th class=\"col_heading level0 col1\" >volatile acid</th>        <th class=\"col_heading level0 col2\" >citric acid</th>        <th class=\"col_heading level0 col3\" >residual sugar</th>        <th class=\"col_heading level0 col4\" >chlorid</th>        <th class=\"col_heading level0 col5\" >free sulfur dioxide</th>        <th class=\"col_heading level0 col6\" >sum of sulfur dioxide</th>        <th class=\"col_heading level0 col7\" >density</th>        <th class=\"col_heading level0 col8\" >pH</th>        <th class=\"col_heading level0 col9\" >sulphates</th>        <th class=\"col_heading level0 col10\" >alcohol</th>        <th class=\"col_heading level0 col11\" >quality</th>    </tr></thead><tbody>\n",
       "                <tr>\n",
       "                        <th id=\"T_28e05120_cd39_11ec_9c7e_c0e434400c5clevel0_row0\" class=\"row_heading level0 row0\" >fixed acid</th>\n",
       "                        <td id=\"T_28e05120_cd39_11ec_9c7e_c0e434400c5crow0_col0\" class=\"data row0 col0\" >1.000000</td>\n",
       "                        <td id=\"T_28e05120_cd39_11ec_9c7e_c0e434400c5crow0_col1\" class=\"data row0 col1\" >-0.250728</td>\n",
       "                        <td id=\"T_28e05120_cd39_11ec_9c7e_c0e434400c5crow0_col2\" class=\"data row0 col2\" >0.673157</td>\n",
       "                        <td id=\"T_28e05120_cd39_11ec_9c7e_c0e434400c5crow0_col3\" class=\"data row0 col3\" >0.171831</td>\n",
       "                        <td id=\"T_28e05120_cd39_11ec_9c7e_c0e434400c5crow0_col4\" class=\"data row0 col4\" >0.107889</td>\n",
       "                        <td id=\"T_28e05120_cd39_11ec_9c7e_c0e434400c5crow0_col5\" class=\"data row0 col5\" >-0.164831</td>\n",
       "                        <td id=\"T_28e05120_cd39_11ec_9c7e_c0e434400c5crow0_col6\" class=\"data row0 col6\" >-0.110628</td>\n",
       "                        <td id=\"T_28e05120_cd39_11ec_9c7e_c0e434400c5crow0_col7\" class=\"data row0 col7\" >0.681501</td>\n",
       "                        <td id=\"T_28e05120_cd39_11ec_9c7e_c0e434400c5crow0_col8\" class=\"data row0 col8\" >-0.685163</td>\n",
       "                        <td id=\"T_28e05120_cd39_11ec_9c7e_c0e434400c5crow0_col9\" class=\"data row0 col9\" >0.174592</td>\n",
       "                        <td id=\"T_28e05120_cd39_11ec_9c7e_c0e434400c5crow0_col10\" class=\"data row0 col10\" >-0.075055</td>\n",
       "                        <td id=\"T_28e05120_cd39_11ec_9c7e_c0e434400c5crow0_col11\" class=\"data row0 col11\" >0.121970</td>\n",
       "            </tr>\n",
       "            <tr>\n",
       "                        <th id=\"T_28e05120_cd39_11ec_9c7e_c0e434400c5clevel0_row1\" class=\"row_heading level0 row1\" >volatile acid</th>\n",
       "                        <td id=\"T_28e05120_cd39_11ec_9c7e_c0e434400c5crow1_col0\" class=\"data row1 col0\" >-0.250728</td>\n",
       "                        <td id=\"T_28e05120_cd39_11ec_9c7e_c0e434400c5crow1_col1\" class=\"data row1 col1\" >1.000000</td>\n",
       "                        <td id=\"T_28e05120_cd39_11ec_9c7e_c0e434400c5crow1_col2\" class=\"data row1 col2\" >-0.544187</td>\n",
       "                        <td id=\"T_28e05120_cd39_11ec_9c7e_c0e434400c5crow1_col3\" class=\"data row1 col3\" >-0.005751</td>\n",
       "                        <td id=\"T_28e05120_cd39_11ec_9c7e_c0e434400c5crow1_col4\" class=\"data row1 col4\" >0.056336</td>\n",
       "                        <td id=\"T_28e05120_cd39_11ec_9c7e_c0e434400c5crow1_col5\" class=\"data row1 col5\" >-0.001962</td>\n",
       "                        <td id=\"T_28e05120_cd39_11ec_9c7e_c0e434400c5crow1_col6\" class=\"data row1 col6\" >0.077748</td>\n",
       "                        <td id=\"T_28e05120_cd39_11ec_9c7e_c0e434400c5crow1_col7\" class=\"data row1 col7\" >0.016512</td>\n",
       "                        <td id=\"T_28e05120_cd39_11ec_9c7e_c0e434400c5crow1_col8\" class=\"data row1 col8\" >0.221492</td>\n",
       "                        <td id=\"T_28e05120_cd39_11ec_9c7e_c0e434400c5crow1_col9\" class=\"data row1 col9\" >-0.276079</td>\n",
       "                        <td id=\"T_28e05120_cd39_11ec_9c7e_c0e434400c5crow1_col10\" class=\"data row1 col10\" >-0.203909</td>\n",
       "                        <td id=\"T_28e05120_cd39_11ec_9c7e_c0e434400c5crow1_col11\" class=\"data row1 col11\" >-0.407394</td>\n",
       "            </tr>\n",
       "            <tr>\n",
       "                        <th id=\"T_28e05120_cd39_11ec_9c7e_c0e434400c5clevel0_row2\" class=\"row_heading level0 row2\" >citric acid</th>\n",
       "                        <td id=\"T_28e05120_cd39_11ec_9c7e_c0e434400c5crow2_col0\" class=\"data row2 col0\" >0.673157</td>\n",
       "                        <td id=\"T_28e05120_cd39_11ec_9c7e_c0e434400c5crow2_col1\" class=\"data row2 col1\" >-0.544187</td>\n",
       "                        <td id=\"T_28e05120_cd39_11ec_9c7e_c0e434400c5crow2_col2\" class=\"data row2 col2\" >1.000000</td>\n",
       "                        <td id=\"T_28e05120_cd39_11ec_9c7e_c0e434400c5crow2_col3\" class=\"data row2 col3\" >0.175815</td>\n",
       "                        <td id=\"T_28e05120_cd39_11ec_9c7e_c0e434400c5crow2_col4\" class=\"data row2 col4\" >0.245312</td>\n",
       "                        <td id=\"T_28e05120_cd39_11ec_9c7e_c0e434400c5crow2_col5\" class=\"data row2 col5\" >-0.057589</td>\n",
       "                        <td id=\"T_28e05120_cd39_11ec_9c7e_c0e434400c5crow2_col6\" class=\"data row2 col6\" >0.036871</td>\n",
       "                        <td id=\"T_28e05120_cd39_11ec_9c7e_c0e434400c5crow2_col7\" class=\"data row2 col7\" >0.375243</td>\n",
       "                        <td id=\"T_28e05120_cd39_11ec_9c7e_c0e434400c5crow2_col8\" class=\"data row2 col8\" >-0.546339</td>\n",
       "                        <td id=\"T_28e05120_cd39_11ec_9c7e_c0e434400c5crow2_col9\" class=\"data row2 col9\" >0.331232</td>\n",
       "                        <td id=\"T_28e05120_cd39_11ec_9c7e_c0e434400c5crow2_col10\" class=\"data row2 col10\" >0.106250</td>\n",
       "                        <td id=\"T_28e05120_cd39_11ec_9c7e_c0e434400c5crow2_col11\" class=\"data row2 col11\" >0.240821</td>\n",
       "            </tr>\n",
       "            <tr>\n",
       "                        <th id=\"T_28e05120_cd39_11ec_9c7e_c0e434400c5clevel0_row3\" class=\"row_heading level0 row3\" >residual sugar</th>\n",
       "                        <td id=\"T_28e05120_cd39_11ec_9c7e_c0e434400c5crow3_col0\" class=\"data row3 col0\" >0.171831</td>\n",
       "                        <td id=\"T_28e05120_cd39_11ec_9c7e_c0e434400c5crow3_col1\" class=\"data row3 col1\" >-0.005751</td>\n",
       "                        <td id=\"T_28e05120_cd39_11ec_9c7e_c0e434400c5crow3_col2\" class=\"data row3 col2\" >0.175815</td>\n",
       "                        <td id=\"T_28e05120_cd39_11ec_9c7e_c0e434400c5crow3_col3\" class=\"data row3 col3\" >1.000000</td>\n",
       "                        <td id=\"T_28e05120_cd39_11ec_9c7e_c0e434400c5crow3_col4\" class=\"data row3 col4\" >0.070863</td>\n",
       "                        <td id=\"T_28e05120_cd39_11ec_9c7e_c0e434400c5crow3_col5\" class=\"data row3 col5\" >0.165339</td>\n",
       "                        <td id=\"T_28e05120_cd39_11ec_9c7e_c0e434400c5crow3_col6\" class=\"data row3 col6\" >0.190790</td>\n",
       "                        <td id=\"T_28e05120_cd39_11ec_9c7e_c0e434400c5crow3_col7\" class=\"data row3 col7\" >0.380147</td>\n",
       "                        <td id=\"T_28e05120_cd39_11ec_9c7e_c0e434400c5crow3_col8\" class=\"data row3 col8\" >-0.116959</td>\n",
       "                        <td id=\"T_28e05120_cd39_11ec_9c7e_c0e434400c5crow3_col9\" class=\"data row3 col9\" >0.017475</td>\n",
       "                        <td id=\"T_28e05120_cd39_11ec_9c7e_c0e434400c5crow3_col10\" class=\"data row3 col10\" >0.058421</td>\n",
       "                        <td id=\"T_28e05120_cd39_11ec_9c7e_c0e434400c5crow3_col11\" class=\"data row3 col11\" >0.022002</td>\n",
       "            </tr>\n",
       "            <tr>\n",
       "                        <th id=\"T_28e05120_cd39_11ec_9c7e_c0e434400c5clevel0_row4\" class=\"row_heading level0 row4\" >chlorid</th>\n",
       "                        <td id=\"T_28e05120_cd39_11ec_9c7e_c0e434400c5crow4_col0\" class=\"data row4 col0\" >0.107889</td>\n",
       "                        <td id=\"T_28e05120_cd39_11ec_9c7e_c0e434400c5crow4_col1\" class=\"data row4 col1\" >0.056336</td>\n",
       "                        <td id=\"T_28e05120_cd39_11ec_9c7e_c0e434400c5crow4_col2\" class=\"data row4 col2\" >0.245312</td>\n",
       "                        <td id=\"T_28e05120_cd39_11ec_9c7e_c0e434400c5crow4_col3\" class=\"data row4 col3\" >0.070863</td>\n",
       "                        <td id=\"T_28e05120_cd39_11ec_9c7e_c0e434400c5crow4_col4\" class=\"data row4 col4\" >1.000000</td>\n",
       "                        <td id=\"T_28e05120_cd39_11ec_9c7e_c0e434400c5crow4_col5\" class=\"data row4 col5\" >0.015280</td>\n",
       "                        <td id=\"T_28e05120_cd39_11ec_9c7e_c0e434400c5crow4_col6\" class=\"data row4 col6\" >0.048163</td>\n",
       "                        <td id=\"T_28e05120_cd39_11ec_9c7e_c0e434400c5crow4_col7\" class=\"data row4 col7\" >0.208901</td>\n",
       "                        <td id=\"T_28e05120_cd39_11ec_9c7e_c0e434400c5crow4_col8\" class=\"data row4 col8\" >-0.277759</td>\n",
       "                        <td id=\"T_28e05120_cd39_11ec_9c7e_c0e434400c5crow4_col9\" class=\"data row4 col9\" >0.374784</td>\n",
       "                        <td id=\"T_28e05120_cd39_11ec_9c7e_c0e434400c5crow4_col10\" class=\"data row4 col10\" >-0.229917</td>\n",
       "                        <td id=\"T_28e05120_cd39_11ec_9c7e_c0e434400c5crow4_col11\" class=\"data row4 col11\" >-0.124085</td>\n",
       "            </tr>\n",
       "            <tr>\n",
       "                        <th id=\"T_28e05120_cd39_11ec_9c7e_c0e434400c5clevel0_row5\" class=\"row_heading level0 row5\" >free sulfur dioxide</th>\n",
       "                        <td id=\"T_28e05120_cd39_11ec_9c7e_c0e434400c5crow5_col0\" class=\"data row5 col0\" >-0.164831</td>\n",
       "                        <td id=\"T_28e05120_cd39_11ec_9c7e_c0e434400c5crow5_col1\" class=\"data row5 col1\" >-0.001962</td>\n",
       "                        <td id=\"T_28e05120_cd39_11ec_9c7e_c0e434400c5crow5_col2\" class=\"data row5 col2\" >-0.057589</td>\n",
       "                        <td id=\"T_28e05120_cd39_11ec_9c7e_c0e434400c5crow5_col3\" class=\"data row5 col3\" >0.165339</td>\n",
       "                        <td id=\"T_28e05120_cd39_11ec_9c7e_c0e434400c5crow5_col4\" class=\"data row5 col4\" >0.015280</td>\n",
       "                        <td id=\"T_28e05120_cd39_11ec_9c7e_c0e434400c5crow5_col5\" class=\"data row5 col5\" >1.000000</td>\n",
       "                        <td id=\"T_28e05120_cd39_11ec_9c7e_c0e434400c5crow5_col6\" class=\"data row5 col6\" >0.661093</td>\n",
       "                        <td id=\"T_28e05120_cd39_11ec_9c7e_c0e434400c5crow5_col7\" class=\"data row5 col7\" >-0.054150</td>\n",
       "                        <td id=\"T_28e05120_cd39_11ec_9c7e_c0e434400c5crow5_col8\" class=\"data row5 col8\" >0.072804</td>\n",
       "                        <td id=\"T_28e05120_cd39_11ec_9c7e_c0e434400c5crow5_col9\" class=\"data row5 col9\" >0.034445</td>\n",
       "                        <td id=\"T_28e05120_cd39_11ec_9c7e_c0e434400c5crow5_col10\" class=\"data row5 col10\" >-0.047095</td>\n",
       "                        <td id=\"T_28e05120_cd39_11ec_9c7e_c0e434400c5crow5_col11\" class=\"data row5 col11\" >-0.063260</td>\n",
       "            </tr>\n",
       "            <tr>\n",
       "                        <th id=\"T_28e05120_cd39_11ec_9c7e_c0e434400c5clevel0_row6\" class=\"row_heading level0 row6\" >sum of sulfur dioxide</th>\n",
       "                        <td id=\"T_28e05120_cd39_11ec_9c7e_c0e434400c5crow6_col0\" class=\"data row6 col0\" >-0.110628</td>\n",
       "                        <td id=\"T_28e05120_cd39_11ec_9c7e_c0e434400c5crow6_col1\" class=\"data row6 col1\" >0.077748</td>\n",
       "                        <td id=\"T_28e05120_cd39_11ec_9c7e_c0e434400c5crow6_col2\" class=\"data row6 col2\" >0.036871</td>\n",
       "                        <td id=\"T_28e05120_cd39_11ec_9c7e_c0e434400c5crow6_col3\" class=\"data row6 col3\" >0.190790</td>\n",
       "                        <td id=\"T_28e05120_cd39_11ec_9c7e_c0e434400c5crow6_col4\" class=\"data row6 col4\" >0.048163</td>\n",
       "                        <td id=\"T_28e05120_cd39_11ec_9c7e_c0e434400c5crow6_col5\" class=\"data row6 col5\" >0.661093</td>\n",
       "                        <td id=\"T_28e05120_cd39_11ec_9c7e_c0e434400c5crow6_col6\" class=\"data row6 col6\" >1.000000</td>\n",
       "                        <td id=\"T_28e05120_cd39_11ec_9c7e_c0e434400c5crow6_col7\" class=\"data row6 col7\" >0.050175</td>\n",
       "                        <td id=\"T_28e05120_cd39_11ec_9c7e_c0e434400c5crow6_col8\" class=\"data row6 col8\" >-0.059126</td>\n",
       "                        <td id=\"T_28e05120_cd39_11ec_9c7e_c0e434400c5crow6_col9\" class=\"data row6 col9\" >0.026894</td>\n",
       "                        <td id=\"T_28e05120_cd39_11ec_9c7e_c0e434400c5crow6_col10\" class=\"data row6 col10\" >-0.188165</td>\n",
       "                        <td id=\"T_28e05120_cd39_11ec_9c7e_c0e434400c5crow6_col11\" class=\"data row6 col11\" >-0.183339</td>\n",
       "            </tr>\n",
       "            <tr>\n",
       "                        <th id=\"T_28e05120_cd39_11ec_9c7e_c0e434400c5clevel0_row7\" class=\"row_heading level0 row7\" >density</th>\n",
       "                        <td id=\"T_28e05120_cd39_11ec_9c7e_c0e434400c5crow7_col0\" class=\"data row7 col0\" >0.681501</td>\n",
       "                        <td id=\"T_28e05120_cd39_11ec_9c7e_c0e434400c5crow7_col1\" class=\"data row7 col1\" >0.016512</td>\n",
       "                        <td id=\"T_28e05120_cd39_11ec_9c7e_c0e434400c5crow7_col2\" class=\"data row7 col2\" >0.375243</td>\n",
       "                        <td id=\"T_28e05120_cd39_11ec_9c7e_c0e434400c5crow7_col3\" class=\"data row7 col3\" >0.380147</td>\n",
       "                        <td id=\"T_28e05120_cd39_11ec_9c7e_c0e434400c5crow7_col4\" class=\"data row7 col4\" >0.208901</td>\n",
       "                        <td id=\"T_28e05120_cd39_11ec_9c7e_c0e434400c5crow7_col5\" class=\"data row7 col5\" >-0.054150</td>\n",
       "                        <td id=\"T_28e05120_cd39_11ec_9c7e_c0e434400c5crow7_col6\" class=\"data row7 col6\" >0.050175</td>\n",
       "                        <td id=\"T_28e05120_cd39_11ec_9c7e_c0e434400c5crow7_col7\" class=\"data row7 col7\" >1.000000</td>\n",
       "                        <td id=\"T_28e05120_cd39_11ec_9c7e_c0e434400c5crow7_col8\" class=\"data row7 col8\" >-0.352775</td>\n",
       "                        <td id=\"T_28e05120_cd39_11ec_9c7e_c0e434400c5crow7_col9\" class=\"data row7 col9\" >0.143139</td>\n",
       "                        <td id=\"T_28e05120_cd39_11ec_9c7e_c0e434400c5crow7_col10\" class=\"data row7 col10\" >-0.494727</td>\n",
       "                        <td id=\"T_28e05120_cd39_11ec_9c7e_c0e434400c5crow7_col11\" class=\"data row7 col11\" >-0.175208</td>\n",
       "            </tr>\n",
       "            <tr>\n",
       "                        <th id=\"T_28e05120_cd39_11ec_9c7e_c0e434400c5clevel0_row8\" class=\"row_heading level0 row8\" >pH</th>\n",
       "                        <td id=\"T_28e05120_cd39_11ec_9c7e_c0e434400c5crow8_col0\" class=\"data row8 col0\" >-0.685163</td>\n",
       "                        <td id=\"T_28e05120_cd39_11ec_9c7e_c0e434400c5crow8_col1\" class=\"data row8 col1\" >0.221492</td>\n",
       "                        <td id=\"T_28e05120_cd39_11ec_9c7e_c0e434400c5crow8_col2\" class=\"data row8 col2\" >-0.546339</td>\n",
       "                        <td id=\"T_28e05120_cd39_11ec_9c7e_c0e434400c5crow8_col3\" class=\"data row8 col3\" >-0.116959</td>\n",
       "                        <td id=\"T_28e05120_cd39_11ec_9c7e_c0e434400c5crow8_col4\" class=\"data row8 col4\" >-0.277759</td>\n",
       "                        <td id=\"T_28e05120_cd39_11ec_9c7e_c0e434400c5crow8_col5\" class=\"data row8 col5\" >0.072804</td>\n",
       "                        <td id=\"T_28e05120_cd39_11ec_9c7e_c0e434400c5crow8_col6\" class=\"data row8 col6\" >-0.059126</td>\n",
       "                        <td id=\"T_28e05120_cd39_11ec_9c7e_c0e434400c5crow8_col7\" class=\"data row8 col7\" >-0.352775</td>\n",
       "                        <td id=\"T_28e05120_cd39_11ec_9c7e_c0e434400c5crow8_col8\" class=\"data row8 col8\" >1.000000</td>\n",
       "                        <td id=\"T_28e05120_cd39_11ec_9c7e_c0e434400c5crow8_col9\" class=\"data row8 col9\" >-0.185499</td>\n",
       "                        <td id=\"T_28e05120_cd39_11ec_9c7e_c0e434400c5crow8_col10\" class=\"data row8 col10\" >0.225322</td>\n",
       "                        <td id=\"T_28e05120_cd39_11ec_9c7e_c0e434400c5crow8_col11\" class=\"data row8 col11\" >-0.052453</td>\n",
       "            </tr>\n",
       "            <tr>\n",
       "                        <th id=\"T_28e05120_cd39_11ec_9c7e_c0e434400c5clevel0_row9\" class=\"row_heading level0 row9\" >sulphates</th>\n",
       "                        <td id=\"T_28e05120_cd39_11ec_9c7e_c0e434400c5crow9_col0\" class=\"data row9 col0\" >0.174592</td>\n",
       "                        <td id=\"T_28e05120_cd39_11ec_9c7e_c0e434400c5crow9_col1\" class=\"data row9 col1\" >-0.276079</td>\n",
       "                        <td id=\"T_28e05120_cd39_11ec_9c7e_c0e434400c5crow9_col2\" class=\"data row9 col2\" >0.331232</td>\n",
       "                        <td id=\"T_28e05120_cd39_11ec_9c7e_c0e434400c5crow9_col3\" class=\"data row9 col3\" >0.017475</td>\n",
       "                        <td id=\"T_28e05120_cd39_11ec_9c7e_c0e434400c5crow9_col4\" class=\"data row9 col4\" >0.374784</td>\n",
       "                        <td id=\"T_28e05120_cd39_11ec_9c7e_c0e434400c5crow9_col5\" class=\"data row9 col5\" >0.034445</td>\n",
       "                        <td id=\"T_28e05120_cd39_11ec_9c7e_c0e434400c5crow9_col6\" class=\"data row9 col6\" >0.026894</td>\n",
       "                        <td id=\"T_28e05120_cd39_11ec_9c7e_c0e434400c5crow9_col7\" class=\"data row9 col7\" >0.143139</td>\n",
       "                        <td id=\"T_28e05120_cd39_11ec_9c7e_c0e434400c5crow9_col8\" class=\"data row9 col8\" >-0.185499</td>\n",
       "                        <td id=\"T_28e05120_cd39_11ec_9c7e_c0e434400c5crow9_col9\" class=\"data row9 col9\" >1.000000</td>\n",
       "                        <td id=\"T_28e05120_cd39_11ec_9c7e_c0e434400c5crow9_col10\" class=\"data row9 col10\" >0.094421</td>\n",
       "                        <td id=\"T_28e05120_cd39_11ec_9c7e_c0e434400c5crow9_col11\" class=\"data row9 col11\" >0.257710</td>\n",
       "            </tr>\n",
       "            <tr>\n",
       "                        <th id=\"T_28e05120_cd39_11ec_9c7e_c0e434400c5clevel0_row10\" class=\"row_heading level0 row10\" >alcohol</th>\n",
       "                        <td id=\"T_28e05120_cd39_11ec_9c7e_c0e434400c5crow10_col0\" class=\"data row10 col0\" >-0.075055</td>\n",
       "                        <td id=\"T_28e05120_cd39_11ec_9c7e_c0e434400c5crow10_col1\" class=\"data row10 col1\" >-0.203909</td>\n",
       "                        <td id=\"T_28e05120_cd39_11ec_9c7e_c0e434400c5crow10_col2\" class=\"data row10 col2\" >0.106250</td>\n",
       "                        <td id=\"T_28e05120_cd39_11ec_9c7e_c0e434400c5crow10_col3\" class=\"data row10 col3\" >0.058421</td>\n",
       "                        <td id=\"T_28e05120_cd39_11ec_9c7e_c0e434400c5crow10_col4\" class=\"data row10 col4\" >-0.229917</td>\n",
       "                        <td id=\"T_28e05120_cd39_11ec_9c7e_c0e434400c5crow10_col5\" class=\"data row10 col5\" >-0.047095</td>\n",
       "                        <td id=\"T_28e05120_cd39_11ec_9c7e_c0e434400c5crow10_col6\" class=\"data row10 col6\" >-0.188165</td>\n",
       "                        <td id=\"T_28e05120_cd39_11ec_9c7e_c0e434400c5crow10_col7\" class=\"data row10 col7\" >-0.494727</td>\n",
       "                        <td id=\"T_28e05120_cd39_11ec_9c7e_c0e434400c5crow10_col8\" class=\"data row10 col8\" >0.225322</td>\n",
       "                        <td id=\"T_28e05120_cd39_11ec_9c7e_c0e434400c5crow10_col9\" class=\"data row10 col9\" >0.094421</td>\n",
       "                        <td id=\"T_28e05120_cd39_11ec_9c7e_c0e434400c5crow10_col10\" class=\"data row10 col10\" >1.000000</td>\n",
       "                        <td id=\"T_28e05120_cd39_11ec_9c7e_c0e434400c5crow10_col11\" class=\"data row10 col11\" >0.484866</td>\n",
       "            </tr>\n",
       "            <tr>\n",
       "                        <th id=\"T_28e05120_cd39_11ec_9c7e_c0e434400c5clevel0_row11\" class=\"row_heading level0 row11\" >quality</th>\n",
       "                        <td id=\"T_28e05120_cd39_11ec_9c7e_c0e434400c5crow11_col0\" class=\"data row11 col0\" >0.121970</td>\n",
       "                        <td id=\"T_28e05120_cd39_11ec_9c7e_c0e434400c5crow11_col1\" class=\"data row11 col1\" >-0.407394</td>\n",
       "                        <td id=\"T_28e05120_cd39_11ec_9c7e_c0e434400c5crow11_col2\" class=\"data row11 col2\" >0.240821</td>\n",
       "                        <td id=\"T_28e05120_cd39_11ec_9c7e_c0e434400c5crow11_col3\" class=\"data row11 col3\" >0.022002</td>\n",
       "                        <td id=\"T_28e05120_cd39_11ec_9c7e_c0e434400c5crow11_col4\" class=\"data row11 col4\" >-0.124085</td>\n",
       "                        <td id=\"T_28e05120_cd39_11ec_9c7e_c0e434400c5crow11_col5\" class=\"data row11 col5\" >-0.063260</td>\n",
       "                        <td id=\"T_28e05120_cd39_11ec_9c7e_c0e434400c5crow11_col6\" class=\"data row11 col6\" >-0.183339</td>\n",
       "                        <td id=\"T_28e05120_cd39_11ec_9c7e_c0e434400c5crow11_col7\" class=\"data row11 col7\" >-0.175208</td>\n",
       "                        <td id=\"T_28e05120_cd39_11ec_9c7e_c0e434400c5crow11_col8\" class=\"data row11 col8\" >-0.052453</td>\n",
       "                        <td id=\"T_28e05120_cd39_11ec_9c7e_c0e434400c5crow11_col9\" class=\"data row11 col9\" >0.257710</td>\n",
       "                        <td id=\"T_28e05120_cd39_11ec_9c7e_c0e434400c5crow11_col10\" class=\"data row11 col10\" >0.484866</td>\n",
       "                        <td id=\"T_28e05120_cd39_11ec_9c7e_c0e434400c5crow11_col11\" class=\"data row11 col11\" >1.000000</td>\n",
       "            </tr>\n",
       "    </tbody></table>"
      ],
      "text/plain": [
       "<pandas.io.formats.style.Styler at 0x24e424faf70>"
      ]
     },
     "execution_count": 151,
     "metadata": {},
     "output_type": "execute_result"
    }
   ],
   "source": [
    "df.corr().style.background_gradient(cmap='Reds')"
   ]
  },
  {
   "cell_type": "code",
   "execution_count": 336,
   "metadata": {},
   "outputs": [
    {
     "data": {
      "text/plain": [
       "<function matplotlib.pyplot.show(close=None, block=None)>"
      ]
     },
     "execution_count": 336,
     "metadata": {},
     "output_type": "execute_result"
    },
    {
     "data": {
      "image/png": "[encoded data removed]",
      "text/plain": [
       "<Figure size 1080x432 with 1 Axes>"
      ]
     },
     "metadata": {
      "needs_background": "light"
     },
     "output_type": "display_data"
    }
   ],
   "source": [
    "plt.figure(figsize=(15,6))\n",
    "sns.countplot(x=df['quality'])\n",
    "plt.show"
   ]
  },
  {
   "cell_type": "markdown",
   "metadata": {},
   "source": [
    "Determining and treatment of outliers"
   ]
  },
  {
   "cell_type": "code",
   "execution_count": 152,
   "metadata": {},
   "outputs": [],
   "source": [
    "\n",
    "for x in ['fixed acid','volatile acid','citric acid','residual sugar','chlorid','free sulfur dioxide','sum of sulfur dioxide',\n",
    "         'density','pH','sulphates','alcohol']:\n",
    "    q75,q25 = np.percentile(df.loc[:,x],[75,25])\n",
    "    intr_qr = q75-q25\n",
    " \n",
    "    max = q75+(1.5*intr_qr)\n",
    "    min = q25-(1.5*intr_qr)\n",
    " \n",
    "    df.loc[df[x] < min,x] = np.nan\n",
    "    df.loc[df[x] > max,x] = np.nan"
   ]
  },
  {
   "cell_type": "code",
   "execution_count": 153,
   "metadata": {
    "scrolled": true
   },
   "outputs": [
    {
     "data": {
      "text/plain": [
       "fixed acid                44\n",
       "volatile acid             14\n",
       "citric acid                1\n",
       "residual sugar           110\n",
       "chlorid                   77\n",
       "free sulfur dioxide       18\n",
       "sum of sulfur dioxide     40\n",
       "density                   36\n",
       "pH                        20\n",
       "sulphates                 43\n",
       "alcohol                   12\n",
       "quality                    0\n",
       "dtype: int64"
      ]
     },
     "execution_count": 153,
     "metadata": {},
     "output_type": "execute_result"
    }
   ],
   "source": [
    "df.isnull().sum()"
   ]
  },
  {
   "cell_type": "code",
   "execution_count": 154,
   "metadata": {},
   "outputs": [],
   "source": [
    "fill = ['fixed acid','volatile acid','citric acid','residual sugar','chlorid','free sulfur dioxide','sum of sulfur dioxide',\n",
    "         'density','pH','sulphates','alcohol']"
   ]
  },
  {
   "cell_type": "code",
   "execution_count": 155,
   "metadata": {},
   "outputs": [],
   "source": [
    "for i in fill:\n",
    " df.loc[df.loc[:,i].isnull(),i]=df.loc[:,i].median()"
   ]
  },
  {
   "cell_type": "code",
   "execution_count": 156,
   "metadata": {},
   "outputs": [
    {
     "data": {
      "text/plain": [
       "fixed acid               0\n",
       "volatile acid            0\n",
       "citric acid              0\n",
       "residual sugar           0\n",
       "chlorid                  0\n",
       "free sulfur dioxide      0\n",
       "sum of sulfur dioxide    0\n",
       "density                  0\n",
       "pH                       0\n",
       "sulphates                0\n",
       "alcohol                  0\n",
       "quality                  0\n",
       "dtype: int64"
      ]
     },
     "execution_count": 156,
     "metadata": {},
     "output_type": "execute_result"
    }
   ],
   "source": [
    "df.isnull().sum()"
   ]
  },
  {
   "cell_type": "markdown",
   "metadata": {},
   "source": [
    "# Train-Test Split"
   ]
  },
  {
   "cell_type": "code",
   "execution_count": 157,
   "metadata": {},
   "outputs": [],
   "source": [
    "x = df.drop(['quality'],1)\n",
    "y = y = df['quality']"
   ]
  },
  {
   "cell_type": "code",
   "execution_count": 175,
   "metadata": {},
   "outputs": [],
   "source": [
    "#Imbalaced Dataset to balanced dataset\n",
    "from imblearn.over_sampling import RandomOverSampler\n",
    "os = RandomOverSampler(random_state = 1)\n",
    "x, y = os.fit_resample(x,y)"
   ]
  },
  {
   "cell_type": "code",
   "execution_count": 176,
   "metadata": {},
   "outputs": [],
   "source": [
    "#Scaling\n",
    "sc = StandardScaler()\n",
    "x = sc.fit_transform(x)"
   ]
  },
  {
   "cell_type": "code",
   "execution_count": 337,
   "metadata": {},
   "outputs": [
    {
     "data": {
      "text/plain": [
       "array([[-1.71629698, -1.58823586, -0.41785378, ..., -0.31804582,\n",
       "         0.43067537, -0.08625779],\n",
       "       [-0.34605562, -1.95449251,  1.74355986, ...,  1.27926473,\n",
       "        -1.29890684, -0.71747955],\n",
       "       [-0.45641568, -1.55677004,  0.60125242, ...,  0.78289508,\n",
       "        -0.89883209, -0.15345896],\n",
       "       ...,\n",
       "       [-3.83080613,  2.53807432,  1.37102053, ...,  2.26820583,\n",
       "         0.29000019,  1.24641409],\n",
       "       [ 2.39775062,  0.70149732, -1.05518136, ..., -0.25595941,\n",
       "        -0.02806744,  0.04309057],\n",
       "       [-0.15877619,  0.92279885, -1.17371528, ..., -0.95615133,\n",
       "        -0.63867185,  0.35632256]])"
      ]
     },
     "execution_count": 337,
     "metadata": {},
     "output_type": "execute_result"
    }
   ],
   "source": [
    "#PCA\n",
    "pca = PCA(n_components = 0.97)\n",
    "pca.fit_transform(x)"
   ]
  },
  {
   "cell_type": "code",
   "execution_count": 188,
   "metadata": {},
   "outputs": [],
   "source": [
    "x_train,x_test,y_train,y_test = train_test_split(x,y,test_size = 0.3,random_state=1)"
   ]
  },
  {
   "cell_type": "code",
   "execution_count": 321,
   "metadata": {},
   "outputs": [],
   "source": [
    "model_comparison = {}"
   ]
  },
  {
   "cell_type": "markdown",
   "metadata": {},
   "source": [
    "# Logistic Regression"
   ]
  },
  {
   "cell_type": "code",
   "execution_count": 322,
   "metadata": {},
   "outputs": [],
   "source": [
    "Logistic = LogisticRegression(penalty = 'l1', solver='liblinear', random_state = 42)\n",
    "Logistic.fit(x_train, y_train)\n",
    "y_pred_logistic = Logistic.predict(x_test)"
   ]
  },
  {
   "cell_type": "code",
   "execution_count": 323,
   "metadata": {},
   "outputs": [
    {
     "name": "stdout",
     "output_type": "stream",
     "text": [
      "Logistic train score: 0.4935897435897436\n",
      "Logistic test score: 0.496551724137931\n"
     ]
    }
   ],
   "source": [
    "print('Logistic train score:', Logistic.score(x_train,y_train))\n",
    "print('Logistic test score:', Logistic.score(x_test,y_test))"
   ]
  },
  {
   "cell_type": "code",
   "execution_count": 325,
   "metadata": {},
   "outputs": [
    {
     "name": "stdout",
     "output_type": "stream",
     "text": [
      "              precision    recall  f1-score   support\n",
      "\n",
      "           3       0.68      0.84      0.75       159\n",
      "           4       0.36      0.29      0.32       148\n",
      "           5       0.47      0.52      0.49       145\n",
      "           6       0.45      0.24      0.32       147\n",
      "           7       0.38      0.32      0.35       136\n",
      "           8       0.51      0.73      0.60       135\n",
      "\n",
      "    accuracy                           0.50       870\n",
      "   macro avg       0.47      0.49      0.47       870\n",
      "weighted avg       0.48      0.50      0.48       870\n",
      "\n"
     ]
    }
   ],
   "source": [
    "print(classification_report(y_test,y_pred_logistic))\n",
    "model_comparison['Logistic'] = [Logistic.score(x_train,y_train), accuracy_score(y_test,y_pred_logistic)]"
   ]
  },
  {
   "cell_type": "markdown",
   "metadata": {},
   "source": [
    "# KNN "
   ]
  },
  {
   "cell_type": "code",
   "execution_count": 230,
   "metadata": {},
   "outputs": [],
   "source": [
    "error_rate = []\n",
    "for i in range(1,60):\n",
    "    \n",
    "    KNN = KNeighborsClassifier(n_neighbors=i)\n",
    "    KNN.fit(x_train, y_train)\n",
    "    pred_i = KNN.predict(x_test)\n",
    "    error_rate.append(np.mean(pred_i != y_test))"
   ]
  },
  {
   "cell_type": "code",
   "execution_count": 231,
   "metadata": {},
   "outputs": [
    {
     "data": {
      "text/plain": [
       "Text(0, 0.5, 'Error (misclassification) Rate')"
      ]
     },
     "execution_count": 231,
     "metadata": {},
     "output_type": "execute_result"
    },
    {
     "data": {
      "image/png": "[encoded data removed]",
      "text/plain": [
       "<Figure size 720x432 with 1 Axes>"
      ]
     },
     "metadata": {
      "needs_background": "light"
     },
     "output_type": "display_data"
    }
   ],
   "source": [
    "plt.figure(figsize=(10,6))\n",
    "plt.plot(range(1,60),error_rate,color='blue', linestyle='dashed', marker='o',\n",
    "         markerfacecolor='red', markersize=8)\n",
    "plt.title('Error Rate vs. K Value', fontsize=20)\n",
    "plt.xlabel('K',fontsize=15)\n",
    "plt.ylabel('Error (misclassification) Rate',fontsize=15)"
   ]
  },
  {
   "cell_type": "code",
   "execution_count": 244,
   "metadata": {},
   "outputs": [],
   "source": [
    "KNN = KNeighborsClassifier(n_neighbors = 3)\n",
    "KNN.fit(x_train, y_train)\n",
    "y_pred_knn = KNN.predict(x_test)"
   ]
  },
  {
   "cell_type": "code",
   "execution_count": 245,
   "metadata": {},
   "outputs": [
    {
     "name": "stdout",
     "output_type": "stream",
     "text": [
      "KNN train score: 0.9013806706114399\n",
      "KNN test score: 0.8160919540229885\n"
     ]
    }
   ],
   "source": [
    "print('KNN train score:', KNN.score(x_train,y_train))\n",
    "print('KNN test score:', KNN.score(x_test,y_test))"
   ]
  },
  {
   "cell_type": "code",
   "execution_count": 332,
   "metadata": {},
   "outputs": [
    {
     "name": "stdout",
     "output_type": "stream",
     "text": [
      "              precision    recall  f1-score   support\n",
      "\n",
      "           3       0.98      1.00      0.99       159\n",
      "           4       0.85      1.00      0.92       148\n",
      "           5       0.64      0.56      0.60       145\n",
      "           6       0.61      0.44      0.51       147\n",
      "           7       0.76      0.90      0.82       136\n",
      "           8       0.96      1.00      0.98       135\n",
      "\n",
      "    accuracy                           0.82       870\n",
      "   macro avg       0.80      0.82      0.80       870\n",
      "weighted avg       0.80      0.82      0.80       870\n",
      "\n"
     ]
    }
   ],
   "source": [
    "print(classification_report(y_test,y_pred_knn))\n"
   ]
  },
  {
   "cell_type": "code",
   "execution_count": 331,
   "metadata": {},
   "outputs": [],
   "source": [
    "model_comparison['KNN'] = [KNN.score(x_train,y_train), accuracy_score(y_test,y_pred_knn)]"
   ]
  },
  {
   "cell_type": "markdown",
   "metadata": {},
   "source": [
    "# Random Forest"
   ]
  },
  {
   "cell_type": "code",
   "execution_count": 211,
   "metadata": {},
   "outputs": [],
   "source": [
    "n_estimators = [int(x) for x in np.linspace(start = 10, stop = 50, num = 5)]\n",
    "max_features = ['auto', 'sqrt']\n",
    "max_depth = [int(x) for x in np.linspace(10, 30, num = 6)]\n"
   ]
  },
  {
   "cell_type": "code",
   "execution_count": 200,
   "metadata": {},
   "outputs": [
    {
     "name": "stdout",
     "output_type": "stream",
     "text": [
      "{'n_estimators': [10, 20, 30, 40, 50], 'max_features': ['auto', 'sqrt'], 'max_depth': [10, 14, 18, 22, 26, 30]}\n"
     ]
    }
   ],
   "source": [
    "param_grid ={ 'n_estimators': n_estimators,\n",
    "               'max_features' : max_features,\n",
    "               'max_depth' : max_depth\n",
    "               \n",
    "                 }\n",
    "print(param_grid)"
   ]
  },
  {
   "cell_type": "code",
   "execution_count": 205,
   "metadata": {},
   "outputs": [],
   "source": [
    "Random_Forest_Grid = GridSearchCV(estimator = Random_Forest, param_grid = param_grid, cv = 5\n",
    "                                 )"
   ]
  },
  {
   "cell_type": "code",
   "execution_count": 206,
   "metadata": {},
   "outputs": [
    {
     "data": {
      "text/plain": [
       "GridSearchCV(cv=5, estimator=RandomForestClassifier(),\n",
       "             param_grid={'max_depth': [10, 14, 18, 22, 26, 30],\n",
       "                         'max_features': ['auto', 'sqrt'],\n",
       "                         'n_estimators': [10, 20, 30, 40, 50]})"
      ]
     },
     "execution_count": 206,
     "metadata": {},
     "output_type": "execute_result"
    }
   ],
   "source": [
    "Random_Forest_Grid.fit(x_train,y_train)\n"
   ]
  },
  {
   "cell_type": "code",
   "execution_count": 207,
   "metadata": {},
   "outputs": [
    {
     "data": {
      "text/plain": [
       "{'max_depth': 26, 'max_features': 'auto', 'n_estimators': 50}"
      ]
     },
     "execution_count": 207,
     "metadata": {},
     "output_type": "execute_result"
    }
   ],
   "source": [
    "Random_Forest_Grid.best_params_"
   ]
  },
  {
   "cell_type": "code",
   "execution_count": 208,
   "metadata": {},
   "outputs": [],
   "source": [
    "y_pred_random = Random_Forest_Grid.predict(x_test)"
   ]
  },
  {
   "cell_type": "code",
   "execution_count": 209,
   "metadata": {},
   "outputs": [
    {
     "name": "stdout",
     "output_type": "stream",
     "text": [
      "Random_Forest train score: 1.0\n",
      "Random_Forest test score: 0.9080459770114943\n"
     ]
    }
   ],
   "source": [
    "print('Random_Forest train score:', Random_Forest_Grid.score(x_train,y_train))\n",
    "print('Random_Forest test score:', Random_Forest_Grid.score(x_test,y_test))"
   ]
  },
  {
   "cell_type": "code",
   "execution_count": 327,
   "metadata": {},
   "outputs": [
    {
     "name": "stdout",
     "output_type": "stream",
     "text": [
      "              precision    recall  f1-score   support\n",
      "\n",
      "           3       1.00      1.00      1.00       159\n",
      "           4       0.99      1.00      0.99       148\n",
      "           5       0.75      0.80      0.78       145\n",
      "           6       0.78      0.68      0.72       147\n",
      "           7       0.92      0.97      0.95       136\n",
      "           8       1.00      1.00      1.00       135\n",
      "\n",
      "    accuracy                           0.91       870\n",
      "   macro avg       0.91      0.91      0.91       870\n",
      "weighted avg       0.91      0.91      0.91       870\n",
      "\n"
     ]
    }
   ],
   "source": [
    "print(classification_report(y_test,y_pred_random))\n",
    "model_comparison['Random Forest'] = [Random_Forest_Grid.score(x_train,y_train),accuracy_score(y_test,y_pred_random)]"
   ]
  },
  {
   "cell_type": "markdown",
   "metadata": {},
   "source": [
    "# Gradient Boosting"
   ]
  },
  {
   "cell_type": "code",
   "execution_count": 273,
   "metadata": {},
   "outputs": [
    {
     "data": {
      "text/plain": [
       "GradientBoostingClassifier(learning_rate=0.05, max_features=8, n_estimators=300,\n",
       "                           random_state=1)"
      ]
     },
     "execution_count": 273,
     "metadata": {},
     "output_type": "execute_result"
    }
   ],
   "source": [
    "Gradient = GradientBoostingClassifier(n_estimators=300,learning_rate=0.05,random_state=1,max_features=8 )\n",
    "Gradient.fit(x_train,y_train)"
   ]
  },
  {
   "cell_type": "code",
   "execution_count": 274,
   "metadata": {},
   "outputs": [
    {
     "name": "stdout",
     "output_type": "stream",
     "text": [
      "Gradient Boosting train score: 0.9763313609467456\n",
      "Gradient Boosting test score: 0.864367816091954\n"
     ]
    }
   ],
   "source": [
    "print('Gradient Boosting train score:', Gradient.score(x_train,y_train))\n",
    "print('Gradient Boosting test score:', Gradient.score(x_test,y_test))"
   ]
  },
  {
   "cell_type": "code",
   "execution_count": 328,
   "metadata": {},
   "outputs": [
    {
     "name": "stdout",
     "output_type": "stream",
     "text": [
      "              precision    recall  f1-score   support\n",
      "\n",
      "           3       1.00      1.00      1.00       159\n",
      "           4       0.95      1.00      0.98       148\n",
      "           5       0.67      0.71      0.69       145\n",
      "           6       0.67      0.54      0.60       147\n",
      "           7       0.86      0.93      0.89       136\n",
      "           8       1.00      1.00      1.00       135\n",
      "\n",
      "    accuracy                           0.86       870\n",
      "   macro avg       0.86      0.86      0.86       870\n",
      "weighted avg       0.86      0.86      0.86       870\n",
      "\n"
     ]
    }
   ],
   "source": [
    "y_pred_gradient = Gradient.predict(x_test)\n",
    "print(classification_report(y_test, y_pred_gradient))\n",
    "model_comparison['Gradient Boosting'] = [Gradient.score(x_train,y_train),accuracy_score(y_test,y_pred_gradient)]"
   ]
  },
  {
   "cell_type": "code",
   "execution_count": 333,
   "metadata": {},
   "outputs": [
    {
     "data": {
      "text/html": [
       "<div>\n",
       "<style scoped>\n",
       "    .dataframe tbody tr th:only-of-type {\n",
       "        vertical-align: middle;\n",
       "    }\n",
       "\n",
       "    .dataframe tbody tr th {\n",
       "        vertical-align: top;\n",
       "    }\n",
       "\n",
       "    .dataframe thead th {\n",
       "        text-align: right;\n",
       "    }\n",
       "</style>\n",
       "<table border=\"1\" class=\"dataframe\">\n",
       "  <thead>\n",
       "    <tr style=\"text-align: right;\">\n",
       "      <th></th>\n",
       "      <th>Accuracy:train</th>\n",
       "      <th>Accuracy:test</th>\n",
       "    </tr>\n",
       "  </thead>\n",
       "  <tbody>\n",
       "    <tr>\n",
       "      <th>Random Forest</th>\n",
       "      <td>1.000000</td>\n",
       "      <td>0.908046</td>\n",
       "    </tr>\n",
       "    <tr>\n",
       "      <th>Gradient Boosting</th>\n",
       "      <td>0.976331</td>\n",
       "      <td>0.864368</td>\n",
       "    </tr>\n",
       "    <tr>\n",
       "      <th>KNN</th>\n",
       "      <td>0.901381</td>\n",
       "      <td>0.816092</td>\n",
       "    </tr>\n",
       "    <tr>\n",
       "      <th>Logistic</th>\n",
       "      <td>0.493590</td>\n",
       "      <td>0.496552</td>\n",
       "    </tr>\n",
       "  </tbody>\n",
       "</table>\n",
       "</div>"
      ],
      "text/plain": [
       "                   Accuracy:train  Accuracy:test\n",
       "Random Forest            1.000000       0.908046\n",
       "Gradient Boosting        0.976331       0.864368\n",
       "KNN                      0.901381       0.816092\n",
       "Logistic                 0.493590       0.496552"
      ]
     },
     "execution_count": 333,
     "metadata": {},
     "output_type": "execute_result"
    }
   ],
   "source": [
    "model_comparison_df = pd.DataFrame.from_dict(model_comparison).T\n",
    "model_comparison_df.columns = ['Accuracy:train', 'Accuracy:test']\n",
    "model_comparison_df = model_comparison_df.sort_values('Accuracy:test', ascending=False)\n",
    "model_comparison_df"
   ]
  }
 ],
 "metadata": {
  "kernelspec": {
   "display_name": "Python 3",
   "language": "python",
   "name": "python3"
  },
  "language_info": {
   "codemirror_mode": {
    "name": "ipython",
    "version": 3
   },
   "file_extension": ".py",
   "mimetype": "text/x-python",
   "name": "python",
   "nbconvert_exporter": "python",
   "pygments_lexer": "ipython3",
   "version": "3.8.5"
  }
 },
 "nbformat": 4,
 "nbformat_minor": 4
}
